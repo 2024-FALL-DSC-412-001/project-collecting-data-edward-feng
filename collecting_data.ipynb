{
 "cells": [
  {
   "cell_type": "markdown",
   "metadata": {},
   "source": [
    "# Collecting Data\n",
    "\n",
    "The foundation of your project will be to collect appropriate data for the problem you are trying to solve. There is incredible versatility in how you can use an machine learning model. Some examples might be to predict the next social media trend, categorizing cancer cells, trying to better understand the relationship between temperature fluctuations and coffee bean growth rates, or creating a chat bot.\n",
    "\n",
    "Since we are very early in this course, and - most likely at this point - have not discussed many models, it may be difficult to know what you can do with a dataset, or what is in scope of this course. So by the nature of the course title \"Exploring Machine Learning\" we will take an explorative approach to your project. \n",
    "\n",
    "The goal of this part of the project is to explore what data sets you might be interested in, below will be questions to help guide you to selecting a category of data that you want to further explore."
   ]
  },
  {
   "cell_type": "markdown",
   "metadata": {},
   "source": [
    "## Identifying what data you want to explore\n",
    "\n",
    "Data is everywhere and there seems to be data on about anything. You might know exactly what you want to dive deeper into or you might have no idea. Either way I invite you answer the questions below.\n",
    "\n",
    "Below create a python dictionary with the key being a short summary of the topic of interest, while the value is an explanation of your interest - such as why you are interested in this topic, or why do you feel a strong passion to understand this topic. A topic of interest could be research you are conducting, a topic you are studying at your job, hobbies you have or topics surrounding your identities.\n",
    "\n",
    "List 5 topics, and for each topic put at least a 50 word description.\n",
    "\n",
    "For example I might put:\n",
    "\n",
    "```python\n",
    "interests = {\n",
    "    \"Cats\" : \"I have two cats at home, they are basically my children. I would generally like to learn more about cat behavior, health trends and pet owner behavior. It may be interesting to also see industry trends of cat owner, or how they compare to dog owners. Maybe later I want to start to write an app that recognizes cat breeds\",\n",
    "\n",
    "    \"Scuba\" : \"The study of scuba diving seems to be a 'soft' science, and there are general guidelines on when and how long you should do safety stops to avoid getting decompression sickness. Could there be links to human anatomy or behavior on how deep a person should go safely during a dive?\",\n",
    "}\n",
    "```"
   ]
  },
  {
   "cell_type": "code",
   "execution_count": null,
   "metadata": {},
   "outputs": [
    {
     "ename": "",
     "evalue": "",
     "output_type": "error",
     "traceback": [
      "\u001b[1;31mJupyter cannot be started. Error attempting to locate Jupyter: Running cells requires notebook and jupyter package.\n",
      "\u001b[1;31mRun the following command to install 'jupyter and notebook' into the Python environment. \n",
      "\u001b[1;31mCommand: 'python -m pip install jupyter notebook -U\n",
      "\u001b[1;31mor\n",
      "\u001b[1;31mconda install jupyter notebook -U'\n",
      "\u001b[1;31mClick <a href='https://aka.ms/installJupyterForVSCode'>here</a> for more info."
     ]
    }
   ],
   "source": [
    "# Do not edit the name of this function, it will be used for grading\n",
    "def what_are_topics_you_are_interested_in():\n",
    "    interests = {\n",
    "        \"Video Games (in general)\" : \"I love playing video games. My dad is also an avid gamer so we play games of all \\\n",
    "                                    kinds of genres, including, action, rpg, simulation, rhythm, and lot more. We also \\\n",
    "                                    have a collection of consoles including really old ones (Sega Saturn, NES Classic edition, gamecube, GBA, PS1) \\\n",
    "                                    all the way to newer ones (PS5, Switch, VR Headset). However, it's interesting that xbox consoles are extremely \\\n",
    "                                    inpopular in the Asia region, so I was wondering if there is a pattern for video game genres as well, or even for \\\n",
    "                                    games that are exclusive for a certain console. For example, would a game have less sales in the Asia region if \\\n",
    "                                    it was xbox exclusive? I think a model that predicts the sales of games in different regions based on its genre and platform \\\n",
    "                                    would be really interesting.\" ,\n",
    "        \"Plane\" : \"My father was a fighter pilot and he is currently a commercial pilot, so I am also very interested in planes. There have been many times when I go on a trip and my plane is delayed \\\n",
    "                and this bothers me a lot. I think it would be cool if I have a dataset about airline delays to know which airline sucks the most (more delays) so I can avoid it.\",\n",
    "        \"Pokemon\" : \"I really enjoyed playing games from the pokemon series, and when I was playing I always had this desire when playing: I want to create the best roster. \\\n",
    "                I think it would be cool to train a model that comes up with the best combination of pokemons based on the type or stats, and it would even be cooler if we can do it \\\n",
    "                for a certain generation only or just all combined.\",\n",
    "        \"Cardio\" : \"I love doing cardio. I am currently suffering from quarter life crisis and signed up for 2 half marathons. I feel accomplished when finishing a run or bike session and it benefits my health \\\n",
    "                (well maybe not if I move so much that I injure myself a lot). I wonder if there are any dataset about cardio or cardiovasular health that can prove that cardio does keep you healthy \\\n",
    "                or maybe predict if one will have cardiovascular problems. Another cool idea would be to create my own dataset of my running statistics and predict my marathon time on that specific day.\",\n",
    "        \"Dating preference\" : \"This is just something that I think will be interesting to do a project on. Having never dated before I wonder what attributes or characteristics \\\n",
    "                            are more preferred. I think appearance (or ethnicity) also plays a role in that as well, so it will be fun to do an analysis on that. \\\n",
    "                            P.S I am definitely not doing this for myself :3\"\n",
    "\n",
    "\n",
    "    } # Fill out your interests\n",
    "    return interests\n",
    "# Note: you can use the \\ symbol to continue your string to the next line, this makes \n",
    "# things look a bit prettier\n",
    "# Example:\n",
    "print(\"This is an \\\n",
    "      extended string \")"
   ]
  },
  {
   "cell_type": "markdown",
   "metadata": {},
   "source": [
    "## Do datasets exist for my interests?\n",
    "\n",
    "There is lots of data out there but not for everything. Below are some websites where you can take a look at available datasets. Go ahead and search for datasets related to your topic. Are there many data sets surrounding your topic? Are there many different types of data like categorical, regression, images, etc? If there are limited data sets, do you feel comfortable with the challenge of creating your own data? (Note creating your own data set to supplement existing datasets will increase your score on this assignment)\n",
    "\n",
    "> You can find a link to databases on the course page!\n",
    "\n",
    "For 3 of your topics find 3 databases you might want to use for your project. Below create a dictionary with the keys being the topic values you listed above and the value a link of 3 data bases you would like to explore. If you would like to make your own data too make add a string \"Create my own data\" to the end of the list\n",
    "\n",
    "Note, if you have trouble finding datasets for your topic you can make your dataset more general, or try a different topic. For example for my \"Cats\" topic I could expand it to \"Pets\", \"Pet Toy Sales\" or \"Pet Health Benefits\"\n",
    "\n",
    "You can always change your topic and dataset later, so don't feel that these decisions are permanent.\n",
    "\n",
    "While searching did it generate any ideas on interests or data sets you would like to explore? - If so you can add or replace a topic to the dictionary above!\n",
    "\n",
    "\n",
    "Example\"\n",
    "\n",
    "```python\n",
    "datasets = {\n",
    "    \"Cats\" : [\"https://www.kaggle.com/datasets/ma7555/cat-breeds-dataset\", \"https://example.com\", \"https://example.com\", \"Create my own data\"],\n",
    "\n",
    "    \"Second Topic\": [\"https://example.com\", \"https://example.com\", \"https://example.com\"],\n",
    "    \n",
    "    \"Third Topic\" : [\"https://example.com\", \"https://example.com\", \"https://example.com\"]\n",
    "}\n",
    "```\n"
   ]
  },
  {
   "cell_type": "code",
   "execution_count": null,
   "metadata": {},
   "outputs": [
    {
     "ename": "",
     "evalue": "",
     "output_type": "error",
     "traceback": [
      "\u001b[1;31mJupyter cannot be started. Error attempting to locate Jupyter: Running cells requires notebook and jupyter package.\n",
      "\u001b[1;31mRun the following command to install 'jupyter and notebook' into the Python environment. \n",
      "\u001b[1;31mCommand: 'python -m pip install jupyter notebook -U\n",
      "\u001b[1;31mor\n",
      "\u001b[1;31mconda install jupyter notebook -U'\n",
      "\u001b[1;31mClick <a href='https://aka.ms/installJupyterForVSCode'>here</a> for more info."
     ]
    }
   ],
   "source": [
    "def find_some_datasets():\n",
    "    datasets = {\n",
    "        \"Video Games\" : [\"https://www.kaggle.com/datasets/gregorut/videogamesales\", \"https://www.kaggle.com/datasets/rush4ratio/video-game-sales-with-ratings\", \"https://www.kaggle.com/datasets/asaniczka/video-game-sales-2024\", \"https://www.kaggle.com/datasets/thedevastator/global-video-game-sales-ratings\"],\n",
    "        \"Plane (Airline delays)\" : [\"https://www.kaggle.com/datasets/sherrytp/airline-delay-analysis\", \"https://www.kaggle.com/datasets/giovamata/airlinedelaycauses\", \"https://www.kaggle.com/datasets/ulrikthygepedersen/airlines-delay\", \"https://www.kaggle.com/datasets/jimschacko/airlines-dataset-to-predict-a-delay\"],\n",
    "        \"Pokemon\" : [\"https://www.kaggle.com/datasets/abcsds/pokemon\", \"https://www.kaggle.com/datasets/mylesoneill/pokemon-sun-and-moon-gen-7-stats (can maybe merge this dataset with others)\", \"https://www.kaggle.com/datasets/arnavvvvv/pokemon-pokedex\", \"https://www.kaggle.com/datasets/guavocado/pokemon-stats-1025-pokemons (this one has generations as attribute)\"],\n",
    "    }\n",
    "    return datasets"
   ]
  },
  {
   "cell_type": "markdown",
   "metadata": {},
   "source": [
    "## Asking questions about your dataset\n",
    "\n",
    "Some questions you might want to ask for each dataset are:\n",
    "- Who created this dataset?\n",
    "- When was this dataset created?\n",
    "- Could there be any biases when creating this dataset?\n",
    "- How was this data collected?\n",
    "- Is this data representative of the problem I am trying to solve?\n"
   ]
  }
 ],
 "metadata": {
  "kernelspec": {
   "display_name": "Python 3",
   "language": "python",
   "name": "python3"
  },
  "language_info": {
   "codemirror_mode": {
    "name": "ipython",
    "version": 3
   },
   "file_extension": ".py",
   "mimetype": "text/x-python",
   "name": "python",
   "nbconvert_exporter": "python",
   "pygments_lexer": "ipython3",
   "version": "3.9.6 (default, Oct 18 2022, 12:41:40) \n[Clang 14.0.0 (clang-1400.0.29.202)]"
  },
  "vscode": {
   "interpreter": {
    "hash": "31f2aee4e71d21fbe5cf8b01ff0e069b9275f58929596ceb00d14d90e3e16cd6"
   }
  }
 },
 "nbformat": 4,
 "nbformat_minor": 2
}
